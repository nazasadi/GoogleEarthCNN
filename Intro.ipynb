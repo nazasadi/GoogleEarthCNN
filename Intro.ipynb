{
  "nbformat": 4,
  "nbformat_minor": 0,
  "metadata": {
    "colab": {
      "name": "Intro.ipynb",
      "provenance": [],
      "collapsed_sections": [],
      "authorship_tag": "ABX9TyPEl2TYwufnTktfOByzWXTx",
      "include_colab_link": true
    },
    "kernelspec": {
      "name": "python3",
      "display_name": "Python 3"
    },
    "accelerator": "GPU"
  },
  "cells": [
    {
      "cell_type": "markdown",
      "metadata": {
        "id": "view-in-github",
        "colab_type": "text"
      },
      "source": [
        "<a href=\"https://colab.research.google.com/github/nazasadi/GoogleEarthCNN/blob/master/Intro.ipynb\" target=\"_parent\"><img src=\"https://colab.research.google.com/assets/colab-badge.svg\" alt=\"Open In Colab\"/></a>"
      ]
    },
    {
      "cell_type": "code",
      "metadata": {
        "id": "nQoTJIIbvv2Y",
        "colab_type": "code",
        "outputId": "5171cdeb-6e17-48cb-ee63-7b9428e9f81d",
        "colab": {
          "base_uri": "https://localhost:8080/",
          "height": 51
        }
      },
      "source": [
        "%tensorflow_version 2.x\n",
        "import tensorflow as tf\n",
        "device_name = tf.test.gpu_device_name()\n",
        "if device_name != '/device:GPU:0':\n",
        "  raise SystemError('GPU device not found')\n",
        "print('Found GPU at: {}'.format(device_name))"
      ],
      "execution_count": 1,
      "outputs": [
        {
          "output_type": "stream",
          "text": [
            "TensorFlow 2.x selected.\n",
            "Found GPU at: /device:GPU:0\n"
          ],
          "name": "stdout"
        }
      ]
    },
    {
      "cell_type": "code",
      "metadata": {
        "id": "ZlqeQVpS1g-t",
        "colab_type": "code",
        "colab": {}
      },
      "source": [
        "import ee"
      ],
      "execution_count": 0,
      "outputs": []
    },
    {
      "cell_type": "code",
      "metadata": {
        "id": "8jnn_2k3wnft",
        "colab_type": "code",
        "outputId": "4702e49c-c4c8-4e50-c90a-9f30db81535a",
        "colab": {
          "base_uri": "https://localhost:8080/",
          "height": 173
        }
      },
      "source": [
        "# Trigger the authentication flow.\n",
        "ee.Authenticate()"
      ],
      "execution_count": 3,
      "outputs": [
        {
          "output_type": "stream",
          "text": [
            "To authorize access needed by Earth Engine, open the following URL in a web browser and follow the instructions. If the web browser does not start automatically, please manually browse the URL below.\n",
            "\n",
            "    https://accounts.google.com/o/oauth2/auth?client_id=517222506229-vsmmajv00ul0bs7p89v5m89qs8eb9359.apps.googleusercontent.com&scope=https%3A%2F%2Fwww.googleapis.com%2Fauth%2Fearthengine+https%3A%2F%2Fwww.googleapis.com%2Fauth%2Fdevstorage.full_control&redirect_uri=urn%3Aietf%3Awg%3Aoauth%3A2.0%3Aoob&response_type=code&code_challenge=l9dq8stKxVgGcYxkU_qmzVEP6112jIcSsuPr4gYKRII&code_challenge_method=S256\n",
            "\n",
            "The authorization workflow will generate a code, which you should paste in the box below. \n",
            "Enter verification code: 4/xwFJunRGDy83_RfKxycX7YD53sb6Aw1Eofo8-gOoqbfuDHsyFf7ubYo\n",
            "\n",
            "Successfully saved authorization token.\n"
          ],
          "name": "stdout"
        }
      ]
    },
    {
      "cell_type": "code",
      "metadata": {
        "id": "F39CjJQWBWdE",
        "colab_type": "code",
        "colab": {}
      },
      "source": [
        "# Initialize the library.\n",
        "ee.Initialize()"
      ],
      "execution_count": 0,
      "outputs": []
    },
    {
      "cell_type": "code",
      "metadata": {
        "id": "9c-zFIrYL2KL",
        "colab_type": "code",
        "colab": {}
      },
      "source": [
        "imgVV = ee.ImageCollection('COPERNICUS/S1_GRD').filter(\n",
        "    ee.Filter.listContains('transmitterReceiverPolarisation', 'VV')).filter(\n",
        "        ee.Filter.eq('instrumentMode', 'IW')).select('VV')\n",
        "\n",
        "desc = imgVV.filter(ee.Filter.eq('orbitProperties_pass', 'DESCENDING'));\n",
        "asc = imgVV.filter(ee.Filter.eq('orbitProperties_pass', 'ASCENDING'));\n",
        "\n",
        "spring = ee.Filter.date('2015-03-01', '2015-04-20');\n",
        "lateSpring = ee.Filter.date('2015-04-21', '2015-06-10');\n",
        "summer = ee.Filter.date('2015-06-11', '2015-08-31');\n",
        "\n",
        "descChange = ee.Image.cat(\n",
        "        desc.filter(spring).mean(),\n",
        "        desc.filter(lateSpring).mean(),\n",
        "        desc.filter(summer).mean());\n",
        "\n",
        "ascChange = ee.Image.cat(\n",
        "        asc.filter(spring).mean(),\n",
        "        asc.filter(lateSpring).mean(),\n",
        "        asc.filter(summer).mean());"
      ],
      "execution_count": 0,
      "outputs": []
    },
    {
      "cell_type": "code",
      "metadata": {
        "id": "O7oOc_-sNHT-",
        "colab_type": "code",
        "colab": {
          "base_uri": "https://localhost:8080/",
          "height": 808
        },
        "outputId": "3ce49cd6-dc39-402b-e07d-fad82a243108"
      },
      "source": [
        "import folium\n",
        "map = folium.Map(location=[5.2013, 47.3277])\n",
        "\n",
        "mapid = ascChange.getMapId({'min': -25, 'max': 5})\n",
        "folium.TileLayer(tiles=mapid['tile_fetcher'].url_format,\n",
        "                 attr='Map Data &copy; <a href=\"https://earthengine.google.com/\">Google Earth Engine</a>',\n",
        "    overlay=True,name='median composite').add_to(map)\n",
        "map.add_child(folium.LayerControl())\n",
        "map"
      ],
      "execution_count": 25,
      "outputs": [
        {
          "output_type": "execute_result",
          "data": {
            "text/html": [
              "<div style=\"width:100%;\"><div style=\"position:relative;width:100%;height:0;padding-bottom:60%;\"><iframe src=\"about:blank\" style=\"position:absolute;width:100%;height:100%;left:0;top:0;border:none !important;\" data-html=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 onload=\"this.contentDocument.open();this.contentDocument.write(atob(this.getAttribute('data-html')));this.contentDocument.close();\" allowfullscreen webkitallowfullscreen mozallowfullscreen></iframe></div></div>"
            ],
            "text/plain": [
              "<folium.folium.Map at 0x7fcf63b47828>"
            ]
          },
          "metadata": {
            "tags": []
          },
          "execution_count": 25
        }
      ]
    },
    {
      "cell_type": "code",
      "metadata": {
        "id": "zV_DC4z69vZS",
        "colab_type": "code",
        "colab": {}
      },
      "source": [
        "img = ee.ImageCollection('COPERNICUS/S1_GRD')"
      ],
      "execution_count": 0,
      "outputs": []
    },
    {
      "cell_type": "code",
      "metadata": {
        "id": "lL8xgmKc__DW",
        "colab_type": "code",
        "colab": {}
      },
      "source": [
        "imgHV = img.filterMetadata('transmitterReceiverPolarisation', 'equals','HV')"
      ],
      "execution_count": 0,
      "outputs": []
    },
    {
      "cell_type": "code",
      "metadata": {
        "id": "eqoEDSXcQVgP",
        "colab_type": "code",
        "colab": {}
      },
      "source": [
        "imgHV_2020 = imgHV.filterDate('2020-01-01')"
      ],
      "execution_count": 0,
      "outputs": []
    },
    {
      "cell_type": "code",
      "metadata": {
        "id": "YOERRiWmhQFj",
        "colab_type": "code",
        "colab": {
          "base_uri": "https://localhost:8080/",
          "height": 513
        },
        "outputId": "c9d1ede2-28e0-4159-b669-a613cd34de64"
      },
      "source": [
        "imgHV_2020.getInfo()"
      ],
      "execution_count": 19,
      "outputs": [
        {
          "output_type": "execute_result",
          "data": {
            "text/plain": [
              "{'bands': [],\n",
              " 'features': [],\n",
              " 'id': 'COPERNICUS/S1_GRD',\n",
              " 'properties': {'date_range': [1412294400000, 1585008000000],\n",
              "  'description': '<p>The Sentinel-1 mission provides data from a dual-polarization\\nC-band Synthetic Aperture Radar (SAR) instrument.  This collection\\nincludes the S1 Ground Range Detected (GRD) scenes, processed\\nusing the Sentinel-1 Toolbox to generate a calibrated, ortho-corrected\\nproduct. The collection is updated daily. New assets are ingested\\nwithin two days after they become available.</p>\\n<p>This collection\\ncontains all of the GRD scenes.  Each scene has one of 3 resolutions\\n(10, 25 or 40 meters), 4 band combinations (corresponding to\\nscene polarization) and 3 instrument modes.  Use of the collection\\nin a mosaic context will likely require filtering down to a homogenous\\nset of bands and parameters.  See <a href=\"https://developers.google.com/earth-engine/sentinel1\">this article</a>\\nfor details of collection use and preprocessing. Each scene contains\\neither 1 or 2 out of 4 possible polarization bands, depending\\non the instrument&#39;s polarization settings.  The possible combinations\\nare single band VV or HH, and dual band VV+VH and HH+HV:</p>\\n<ol>\\n<li>VV: single co-polarization, vertical transmit/vertical receive</li>\\n<li>HH: single co-polarization, horizontal transmit/horizontal receive</li>\\n<li>VV + VH: dual-band cross-polarization, vertical transmit/horizontal\\nreceive</li>\\n<li>HH + HV: dual-band cross-polarization, horizontal transmit/vertical\\nreceive</li>\\n</ol>\\n<p>Each scene also includes an additional &#39;angle&#39; band that contains\\nthe approximate viewing incidence angle in degrees at every point.\\nThis band is generated by interpolating the &#39;incidenceAngle&#39; property\\nof the &#39;geolocationGridPoint&#39; gridded field provided with each asset.</p>\\n<p>Each scene was pre-processed with <a href=\"https://sentinel.esa.int/web/sentinel/toolboxes/sentinel-1\">Sentinel-1 Toolbox</a>\\nusing the following steps:</p>\\n<ol>\\n<li>Thermal noise removal</li>\\n<li>Radiometric calibration</li>\\n<li>Terrain correction using SRTM 30 or ASTER DEM for areas greater than\\n 60 degrees latitude, where SRTM is not available.\\nThe final terrain-corrected values are converted to decibels via log scaling\\n(10*log10(x)).</li>\\n</ol>\\n<p>For more information about these pre-processing steps, please refer to the\\n<a href=\"https://developers.google.com/earth-engine/sentinel1\">Sentinel-1 Pre-processing article</a>.</p>\\n<p>This collection is computed on-the-fly. If you want to use the underlying\\ncollection with raw power values (which is updated faster), see\\nCOPERNICUS/S1_GRD_FLOAT.</p>\\n<p><b>Revisit Interval</b>\\n<br>\\n  3 days\\n</p>\\n<p><b>Bands</b>\\n<table class=\"eecat\">\\n<tr>\\n<th scope=\"col\">Name</th>\\n<th scope=\"col\">Units</th>\\n<th scope=\"col\">Min</th>\\n<th scope=\"col\">Max</th>\\n<th scope=\"col\">X Resolution</th>\\n<th scope=\"col\">Y Resolution</th>\\n<th scope=\"col\">Wavelength</th>\\n<th scope=\"col\">Description</th>\\n</tr>\\n<tr>\\n<td>HH</td>\\n<td></td>\\n<td>\\n          -50*\\n</td>\\n<td>\\n          1*\\n</td>\\n<td>\\n      10 meters\\n</td>\\n<td>\\n      10 meters\\n</td>\\n<td>5.405GHz</td>\\n<td><p>Single co-polarization, horizontal transmit/horizontal receive</p></td>\\n</tr>\\n<tr>\\n<td>HV</td>\\n<td></td>\\n<td>\\n          -50*\\n</td>\\n<td>\\n          1*\\n</td>\\n<td>\\n      10 meters\\n</td>\\n<td>\\n      10 meters\\n</td>\\n<td>5.405GHz</td>\\n<td><p>Dual-band cross-polarization, horizontal transmit/vertical receive</p></td>\\n</tr>\\n<tr>\\n<td>VV</td>\\n<td></td>\\n<td>\\n          -50*\\n</td>\\n<td>\\n          1*\\n</td>\\n<td>\\n      10 meters\\n</td>\\n<td>\\n      10 meters\\n</td>\\n<td>5.405GHz</td>\\n<td><p>Single co-polarization, vertical transmit/vertical receive</p></td>\\n</tr>\\n<tr>\\n<td>VH</td>\\n<td></td>\\n<td>\\n          -50*\\n</td>\\n<td>\\n          1*\\n</td>\\n<td>\\n      10 meters\\n</td>\\n<td>\\n      10 meters\\n</td>\\n<td>5.405GHz</td>\\n<td><p>Dual-band cross-polarization, vertical transmit/horizontal receive</p></td>\\n</tr>\\n<tr>\\n<td>angle</td>\\n<td>Degrees</td>\\n<td>\\n          0*\\n</td>\\n<td>\\n          90*\\n</td>\\n<td>\\n</td>\\n<td>\\n</td>\\n<td></td>\\n<td><p>Approximate viewing incidence angle</p></td>\\n</tr>\\n</table>\\n  * estimated min or max value\\n<p><b>Image Properties</b>\\n<table class=\"eecat\">\\n<tr>\\n<th scope=\"col\">Name</th>\\n<th scope=\"col\">Type</th>\\n<th scope=\"col\">Description</th>\\n</tr>\\n<tr>\\n<td>GRD_Post_Processing_facility_country</td>\\n<td>STRING</td>\\n<td><p>Name of the country where the facility is located. This element is configurable within the IPF.</p></td>\\n</tr>\\n<tr>\\n<td>GRD_Post_Processing_facility_name</td>\\n<td>STRING</td>\\n<td><p>Name of the facility where the processing step was performed. This element is configurable within the IPF.</p></td>\\n</tr>\\n<tr>\\n<td>GRD_Post_Processing_facility_organisation</td>\\n<td>STRING</td>\\n<td><p>Name of the organisation responsible for the facility. This element is configurable within the IPF.</p></td>\\n</tr>\\n<tr>\\n<td>GRD_Post_Processing_facility_site</td>\\n<td>STRING</td>\\n<td><p>Geographical location of the facility. This element is configurable within the IPF.</p></td>\\n</tr>\\n<tr>\\n<td>GRD_Post_Processing_software_name</td>\\n<td>STRING</td>\\n<td><p>Name of the software.</p></td>\\n</tr>\\n<tr>\\n<td>GRD_Post_Processing_software_version</td>\\n<td>STRING</td>\\n<td><p>Software version identification.</p></td>\\n</tr>\\n<tr>\\n<td>GRD_Post_Processing_start</td>\\n<td>DOUBLE</td>\\n<td><p>Processing start time.</p></td>\\n</tr>\\n<tr>\\n<td>GRD_Post_Processing_stop</td>\\n<td>DOUBLE</td>\\n<td><p>Processing stop time.</p></td>\\n</tr>\\n<tr>\\n<td>SLC_Processing_facility_country</td>\\n<td>STRING</td>\\n<td><p>Name of the country where the facility is located. This element is configurable within the IPF.</p></td>\\n</tr>\\n<tr>\\n<td>SLC_Processing_facility_name</td>\\n<td>STRING</td>\\n<td><p>Name of the facility where the processing step was performed. This element is configurable within the IPF.</p></td>\\n</tr>\\n<tr>\\n<td>SLC_Processing_facility_organisation</td>\\n<td>STRING</td>\\n<td><p>Name of the organisation responsible for the facility. This element is configurable within the IPF.</p></td>\\n</tr>\\n<tr>\\n<td>SLC_Processing_facility_site</td>\\n<td>STRING</td>\\n<td><p>Geographical location of the facility. This element is configurable within the IPF.</p></td>\\n</tr>\\n<tr>\\n<td>SLC_Processing_software_name</td>\\n<td>STRING</td>\\n<td><p>Name of the software.</p></td>\\n</tr>\\n<tr>\\n<td>SLC_Processing_software_version</td>\\n<td>STRING</td>\\n<td><p>Software version identification.</p></td>\\n</tr>\\n<tr>\\n<td>SLC_Processing_start</td>\\n<td>DOUBLE</td>\\n<td><p>Processing start time.</p></td>\\n</tr>\\n<tr>\\n<td>SLC_Processing_stop</td>\\n<td>DOUBLE</td>\\n<td><p>Processing stop time.</p></td>\\n</tr>\\n<tr>\\n<td>S1TBX_Calibration_Operator_version</td>\\n<td>STRING</td>\\n<td><p>Sentinel-1 Toolbox calibration tool version.</p></td>\\n</tr>\\n<tr>\\n<td>S1TBX_SAR_Processing_version</td>\\n<td>STRING</td>\\n<td><p>Sentinel-1 Toolbox SAR processing tool version.</p></td>\\n</tr>\\n<tr>\\n<td>SNAP_Graph_Processing_Framework_GPF_version</td>\\n<td>STRING</td>\\n<td><p>Sentinel Application Platform (SNAP) version.</p></td>\\n</tr>\\n<tr>\\n<td>startTimeANX</td>\\n<td>DOUBLE</td>\\n<td><p>Sensing start time of the input data relative to the ascending node crossing. This is a count of the time elapsed since the orbit ascending node crossing [ms].</p></td>\\n</tr>\\n<tr>\\n<td>stopTimeANX</td>\\n<td>DOUBLE</td>\\n<td><p>Sensing stop time of the input data relative to the ascending node crossing. This is a count of the time elapsed since the orbit ascending node crossing [ms].</p></td>\\n</tr>\\n<tr>\\n<td>nssdcIdentifier</td>\\n<td>STRING</td>\\n<td><p>Uniquely identifies the mission according to standards defined by the World Data Center for Satellite Information (WDC-SI), available <a href=\"https://nssdc.gsfc.nasa.gov/nmc/SpacecraftQuery.jsp\">here</a>.</p></td>\\n</tr>\\n<tr>\\n<td>familyName</td>\\n<td>STRING</td>\\n<td><p>The full mission name. E.g. “SENTINEL-1”</p></td>\\n</tr>\\n<tr>\\n<td>platform_number</td>\\n<td>STRING</td>\\n<td><p>The alphanumeric identifier of the platform within the mission.</p></td>\\n</tr>\\n<tr>\\n<td>instrument</td>\\n<td>STRING</td>\\n<td><p>Information related to the instrument on the platform to which acquired the data.</p></td>\\n</tr>\\n<tr>\\n<td>instrumentMode</td>\\n<td>STRING</td>\\n<td><p>IW (<a href=\"https://sentinel.esa.int/web/sentinel/user-guides/sentinel-1-sar/acquisition-modes/interferometric-wide-swath\">Interferometric Wide Swath</a>), EW (<a href=\"https://sentinel.esa.int/web/sentinel/user-guides/sentinel-1-sar/acquisition-modes/extra-wide-swath\">Extra Wide Swath</a>) or SM (<a href=\"https://sentinel.esa.int/web/sentinel/user-guides/sentinel-1-sar/acquisition-modes/stripmap\">Strip Map</a>)</p></td>\\n</tr>\\n<tr>\\n<td>instrumentSwath</td>\\n<td>STRING</td>\\n<td><p>List of the swaths contained within a product. Most products will contain only one swath, except for TOPS SLC products which include 3 or 5 swaths.</p></td>\\n</tr>\\n<tr>\\n<td>orbitNumber_start</td>\\n<td>DOUBLE</td>\\n<td><p>Absolute orbit number of the oldest line within the image data.</p></td>\\n</tr>\\n<tr>\\n<td>orbitNumber_stop</td>\\n<td>DOUBLE</td>\\n<td><p>Absolute orbit number of the most recent line within the image data.</p></td>\\n</tr>\\n<tr>\\n<td>relativeOrbitNumber_start</td>\\n<td>DOUBLE</td>\\n<td><p>Relative orbit number of the oldest line within the image data.</p></td>\\n</tr>\\n<tr>\\n<td>relativeOrbitNumber_stop</td>\\n<td>DOUBLE</td>\\n<td><p>Relative orbit number of the most recent line within the image data.</p></td>\\n</tr>\\n<tr>\\n<td>cycleNumber</td>\\n<td>DOUBLE</td>\\n<td><p>Absolute sequence number of the mission cycle to which the oldest image data applies.</p></td>\\n</tr>\\n<tr>\\n<td>phaseIdentifier</td>\\n<td>DOUBLE</td>\\n<td><p>Id of the mission phase to which the oldest image data applies.</p></td>\\n</tr>\\n<tr>\\n<td>orbitProperties_pass</td>\\n<td>STRING</td>\\n<td><p>Direction of the orbit (&#39;ASCENDING&#39; or &#39;DESCENDING&#39;) for the oldest image data in the product (the start of the product).</p></td>\\n</tr>\\n<tr>\\n<td>orbitProperties_ascendingNodeTime</td>\\n<td>DOUBLE</td>\\n<td><p>UTC time of the ascending node of the orbit. This element is present for all products except ASAR L2 OCN products which are generated from an ASAR L1 input.</p></td>\\n</tr>\\n<tr>\\n<td>resolution</td>\\n<td>STRING</td>\\n<td><p>H for high or M for medium.</p></td>\\n</tr>\\n<tr>\\n<td>resolution_meters</td>\\n<td>DOUBLE</td>\\n<td><p>Resolution in meters.</p></td>\\n</tr>\\n<tr>\\n<td>instrumentConfigurationID</td>\\n<td>DOUBLE</td>\\n<td><p>The instrument configuration ID (Radar database ID) for this data.</p></td>\\n</tr>\\n<tr>\\n<td>missionDataTakeID</td>\\n<td>DOUBLE</td>\\n<td><p>Unique ID of the datatake within the mission.</p></td>\\n</tr>\\n<tr>\\n<td>transmitterReceiverPolarisation</td>\\n<td>DOUBLE</td>\\n<td><p>Transmit/Receive polarisation for the data. There is one element for each Tx/Rx combination: [&#39;VV&#39;], [&#39;HH&#39;], [&#39;VV&#39;, &#39;VH&#39;], or [&#39;HH&#39;, &#39;HV&#39;].</p></td>\\n</tr>\\n<tr>\\n<td>productClass</td>\\n<td>STRING</td>\\n<td><p>Output product class “A” for Annotation or “S” for Standard.</p></td>\\n</tr>\\n<tr>\\n<td>productClassDescription</td>\\n<td>STRING</td>\\n<td><p>Textual description of the output product class.</p></td>\\n</tr>\\n<tr>\\n<td>productComposition</td>\\n<td>STRING</td>\\n<td><p>The composition type of this product: “Individual”, “Slice” or “Assembled”.</p></td>\\n</tr>\\n<tr>\\n<td>productType</td>\\n<td>STRING</td>\\n<td><p>The product type (correction level) of this product.</p></td>\\n</tr>\\n<tr>\\n<td>productTimelinessCategory</td>\\n<td>STRING</td>\\n<td><p>Describes the required timeliness of the processing. One of: NRT-10m, NRT-1h, NRT-3h, Fast-24h, Off-line, or Reprocessing</p></td>\\n</tr>\\n<tr>\\n<td>sliceProductFlag</td>\\n<td>STRING</td>\\n<td><p>True if this is a slice from a larger product or false if this is a complete product.</p></td>\\n</tr>\\n<tr>\\n<td>segmentStartTime</td>\\n<td>DOUBLE</td>\\n<td><p>Sensing start time of the segment to which this slice belongs. This field is only present if sliceProductFlag = true.</p></td>\\n</tr>\\n<tr>\\n<td>sliceNumber</td>\\n<td>DOUBLE</td>\\n<td><p>Absolute slice number of this slice starting at 1. This field is only present if sliceProductFlag = true.</p></td>\\n</tr>\\n<tr>\\n<td>totalSlices</td>\\n<td>DOUBLE</td>\\n<td><p>Total number of slices in the complete data take. This field is only present if sliceProductFlag = true.</p></td>\\n</tr>\\n</table>\\n<p><b>Terms of Use</b><br>\\n<p>The use of Sentinel data is governed by the <a href=\"https://scihub.copernicus.eu/twiki/pub/SciHubWebPortal/TermsConditions/Sentinel_Data_Terms_and_Conditions.pdf\">Copernicus Sentinel Data Terms and Conditions.</a></p>\\n<style>\\n  table.eecat {\\n  border: 1px solid black;\\n  border-collapse: collapse;\\n  font-size: 13px;\\n  }\\n  table.eecat td, tr, th {\\n  text-align: left; vertical-align: top;\\n  border: 1px solid gray; padding: 3px;\\n  }\\n  td.nobreak { white-space: nowrap; }\\n</style>',\n",
              "  'period': 0,\n",
              "  'product_tags': ['radar', 'sar', 'backscattering', 'polarization'],\n",
              "  'provider': 'European Union/ESA/Copernicus',\n",
              "  'provider_url': 'https://sentinel.esa.int/web/sentinel/user-guides/sentinel-1-sar/',\n",
              "  'sample': 'https://mw1.google.com/ges/dd/images/s1_sample.png',\n",
              "  'source_tags': ['eu', 'esa', 'copernicus', 'sentinel'],\n",
              "  'tags': ['eu',\n",
              "   'esa',\n",
              "   'copernicus',\n",
              "   'sentinel',\n",
              "   'radar',\n",
              "   'sar',\n",
              "   'backscattering',\n",
              "   'polarization'],\n",
              "  'thumb': 'https://mw1.google.com/ges/dd/images/s1_thumb.png',\n",
              "  'title': 'Sentinel-1 SAR GRD: C-band Synthetic Aperture Radar Ground Range Detected, log scaling',\n",
              "  'type_name': 'ImageCollection',\n",
              "  'visualization_0_bands': 'VV',\n",
              "  'visualization_0_max': '0.0',\n",
              "  'visualization_0_min': '-25.0',\n",
              "  'visualization_0_name': 'Grayscale'},\n",
              " 'type': 'ImageCollection',\n",
              " 'version': 1585142120689960.0}"
            ]
          },
          "metadata": {
            "tags": []
          },
          "execution_count": 19
        }
      ]
    },
    {
      "cell_type": "code",
      "metadata": {
        "id": "oK7bPxxHaguE",
        "colab_type": "code",
        "colab": {}
      },
      "source": [
        "import folium\n",
        "map = folium.Map(location=[38., -122.5])"
      ],
      "execution_count": 0,
      "outputs": []
    },
    {
      "cell_type": "code",
      "metadata": {
        "id": "dNvA89U_cEVG",
        "colab_type": "code",
        "colab": {
          "base_uri": "https://localhost:8080/",
          "height": 808
        },
        "outputId": "3c2e2dc4-035f-4e89-d93b-4c078ada267c"
      },
      "source": [
        "filtered = imgHV_2020.median()\n",
        "mapid = filtered.getMapId()\n",
        "folium.TileLayer(tiles=mapid['tile_fetcher'].url_format,\n",
        "                 attr='Map Data &copy; <a href=\"https://earthengine.google.com/\">Google Earth Engine</a>',\n",
        "    overlay=True,name='median composite').add_to(map)\n",
        "map.add_child(folium.LayerControl())\n",
        "map"
      ],
      "execution_count": 21,
      "outputs": [
        {
          "output_type": "execute_result",
          "data": {
            "text/html": [
              "<div style=\"width:100%;\"><div style=\"position:relative;width:100%;height:0;padding-bottom:60%;\"><iframe src=\"about:blank\" style=\"position:absolute;width:100%;height:100%;left:0;top:0;border:none !important;\" data-html=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 onload=\"this.contentDocument.open();this.contentDocument.write(atob(this.getAttribute('data-html')));this.contentDocument.close();\" allowfullscreen webkitallowfullscreen mozallowfullscreen></iframe></div></div>"
            ],
            "text/plain": [
              "<folium.folium.Map at 0x7fcf63d50748>"
            ]
          },
          "metadata": {
            "tags": []
          },
          "execution_count": 21
        }
      ]
    },
    {
      "cell_type": "code",
      "metadata": {
        "id": "kFyjO1E0eqdo",
        "colab_type": "code",
        "colab": {
          "base_uri": "https://localhost:8080/",
          "height": 85
        },
        "outputId": "1b61dfd5-0477-4ade-a43b-bb685952cc63"
      },
      "source": [
        "mapid"
      ],
      "execution_count": 20,
      "outputs": [
        {
          "output_type": "execute_result",
          "data": {
            "text/plain": [
              "{'image': <ee.image.Image at 0x7fcf63b40f28>,\n",
              " 'mapid': 'projects/earthengine-legacy/maps/880b2fed433a0987d37e5a5bb1708c50-0d648712edb1d2f484619ecd19d4b7f5',\n",
              " 'tile_fetcher': <ee.data.TileFetcher at 0x7fcf63b40518>,\n",
              " 'token': ''}"
            ]
          },
          "metadata": {
            "tags": []
          },
          "execution_count": 20
        }
      ]
    },
    {
      "cell_type": "code",
      "metadata": {
        "id": "oDl-0O8HLHju",
        "colab_type": "code",
        "colab": {}
      },
      "source": [
        ""
      ],
      "execution_count": 0,
      "outputs": []
    }
  ]
}